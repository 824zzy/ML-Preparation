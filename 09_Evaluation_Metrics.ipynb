{
 "cells": [
  {
   "cell_type": "markdown",
   "id": "586082f1",
   "metadata": {},
   "source": [
    "# Metrics for Evaluating Performance"
   ]
  },
  {
   "attachments": {},
   "cell_type": "markdown",
   "id": "17a273f6",
   "metadata": {},
   "source": [
    "-----\n",
    "### The trade-off between bias and variance\n",
    "\n",
    "Bias refers to the error introduced by approximating a real-world problem with a **simplified model**.\n",
    "    \n",
    "    Model with high bias pays very little attention to the training data and oversimplifies the model. It always leads to **high error** on training and test data.\n",
    "\n",
    "Variance refers to the model's sensitivity to small fluctuations or noise in the training data.\n",
    "\n",
    "    Model with high variance pays a lot of attention to training data and does not generalize well on the data which it hasn’t seen before.\n",
    "\n",
    "- Low variance and high bias ==> underfitting (model too simple)\n",
    "- High variance and low bias ==> overfitting (model too complex)\n",
    "- High variance and high bias ==> garbage\n",
    "- Low variance and low bias ==> perfect"
   ]
  },
  {
   "cell_type": "markdown",
   "id": "55b4ad59",
   "metadata": {},
   "source": [
    "-----\n",
    "\n",
    "### What is overfitting and how to avoid overfitting?\n",
    "\n",
    "Overfitting occurs when a machine learning model learns to **capture the noise in the training data rather than the underlying pattern** or relationship.\n",
    "\n",
    "1. Regularization. It involves a cost term for the features involved with the objective function\n",
    "2. Making a simple model. With lesser variables and parameters, the variance can be reduced \n",
    "3. Cross-validation methods like k-folds can also be used\n",
    "4. If some model parameters are likely to cause overfitting, techniques for regularization like LASSO can be used that penalize these parameters"
   ]
  },
  {
   "cell_type": "markdown",
   "id": "15c004e7",
   "metadata": {},
   "source": [
    "-----\n",
    "### Distance Metrics\n",
    "\n",
    "1. Manhattan Distance: $\\sum_{i=1}^{n}|x_i - y_i|$\n",
    "2. Euclidean Distance: $\\sqrt{\\sum_{i=1}^{n}(x_i - y_i)^2}$\n",
    "3. Minkowski Distance: $\\sqrt[p]{\\sum_{i=1}^{n}|x_i - y_i|^p}$\n",
    "4. Hamming Distance: $\\sum_{i=1}^{n}I(x_i \\neq y_i)$\n"
   ]
  },
  {
   "cell_type": "markdown",
   "id": "fce49999",
   "metadata": {},
   "source": [
    "-----\n",
    "### Classification Evaluation Metrics\n",
    "\n",
    "- **Accuracy**: The accuracy of a model is the ratio of the number of correct predictions to the total number of predictions. It is a measure of the model’s correctness. \n",
    "  - When to use accuracy? When the classes are balanced, say, **we can not use accuracy to predict if an asteroid is going to hit the earth or not.**\n",
    "\n",
    "$$\\text{Accuracy} = \\frac{\\text{True Positives} + \\text{True Negatives}}{\\text{True Positives} + \\text{True Negatives} + \\text{False Positives} + \\text{False Negatives}}$$\n",
    "\n",
    "- **Precision**: The precision of a model is the ratio of the number of true positives to all the predicted positives. A model with high precision is more likely to predict a positive class when it is actually positive.\n",
    "  - When to use precision? When the classes are imbalanced and we want to be very sure of our prediction, say, **we can use precision to predict if an email is spam or not.**\n",
    "\n",
    "$$\\text{Precision} = \\frac{\\text{True Positives}}{\\text{True Positives} + \\text{False Positives}}$$\n",
    "\n",
    "- **Recall**: The recall of a model is the ratio of the number of true positives to the total number of true positives and false negatives. It is a measure of the proportion of actual positives are correctly classified. A model with high recall is more likely to predict a positive class when it is actually negative.\n",
    "  - When to use recall? When we want to predict all the positive classes, say, **we can use recall to predict if a patient has a disease or not.**\n",
    "\n",
    "$$\\text{Recall} = \\frac{\\text{True Positives}}{\\text{True Positives} + \\text{False Negatives}}$$\n",
    "\n",
    "- **F1 score**: The F1-score of a classification model is calculated as the harmonic mean of the precision and recall of the model.  It is a good measure to use if you have an uneven class distribution (i.e. a lot more positive samples than negative samples). It is maximum when Precision is equal to Recall.\n",
    "  - When to use F1 score? When False Positive and False Negative are equally costly and True Negative is high\n",
    "\n",
    "$$\\text{F1} = 2 \\times \\frac{\\text{Precision} \\times \\text{Recall}}{\\text{Precision} + \\text{Recall}}$$\n",
    "\n",
    "- **Receiver Operating Characteristic (ROC) VS Area Under the Curve (AUC)**\n",
    "  - The ROC curve is a plot of the true positive rate (TPR) against the false positive rate (FPR) at various threshold settings. \n",
    "  - The AUC is the area under the ROC curve.\n",
    "  - AUC is the larger the better. AUC is useful as a single number summary of classifier performance. AUC=0.5 means the model is no better than random guessing. AUC=1 means the model is perfect.\n",
    "\n",
    "\n"
   ]
  },
  {
   "cell_type": "markdown",
   "id": "549d5296",
   "metadata": {},
   "source": [
    "-----\n",
    "### Confusion Matrix\n",
    "\n",
    "Definition: A confusion matrix is a table that is often used to describe the performance of a classification model (or “classifier”) on a set of test data for which the true values are known.\n",
    "\n",
    "- **True Positive (TP)**: The number of correct predictions that an instance is positive.\n",
    "- **True Negative (TN)**: The number of correct predictions that an instance is negative.\n",
    "- **False Positive (FP)**: The number of incorrect predictions that an instance is positive.\n",
    "- **False Negative (FN)**: The number of incorrect predictions that an instance is negative."
   ]
  },
  {
   "cell_type": "markdown",
   "id": "b4092ccb",
   "metadata": {},
   "source": [
    "-----\n",
    "### Natural Language Generation Evaluation Metrics\n",
    "\n",
    "- **BLEU**: BLEU is a metric for evaluating a generated sentence to a reference sentence. It is calculated by **comparing n-grams of the generated sentence to the n-grams of the reference sentence**. The higher the BLEU score, the better the generated sentence is.\n",
    "  - $\\text{BLEU} = \\exp\\left(\\frac{1}{N} \\sum_{n=1}^{N} \\log p_n\\right)$, where $p_n$ is the precision of $n$-grams.\n",
    "  - Disadvantage of BLUE: It is **overdependent on reference** and it not a good metric for evaluating the **fluency/grammar** of the generated sentence.\n",
    "- METEOR: \n",
    "- CIDEr:\n",
    "- ChrF++:\n"
   ]
  }
 ],
 "metadata": {
  "kernelspec": {
   "display_name": "Python 3 (ipykernel)",
   "language": "python",
   "name": "python3"
  },
  "language_info": {
   "codemirror_mode": {
    "name": "ipython",
    "version": 3
   },
   "file_extension": ".py",
   "mimetype": "text/x-python",
   "name": "python",
   "nbconvert_exporter": "python",
   "pygments_lexer": "ipython3",
   "version": "3.10.4"
  }
 },
 "nbformat": 4,
 "nbformat_minor": 5
}
