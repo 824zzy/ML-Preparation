{
 "cells": [
  {
   "cell_type": "markdown",
   "id": "d6ece23b",
   "metadata": {},
   "source": [
    "-----\n",
    "## Pytorch\n",
    "### Torch Script\n",
    "Torch Script is a way to create serializable and optimizable models from PyTorch code.\n",
    "\n",
    "### Just-in-time (JIT) compiler\n",
    "a just-in-time (JIT) compiler that at runtime takes your PyTorch models and rewrites them to run at production-efficiency"
   ]
  },
  {
   "cell_type": "markdown",
   "id": "77a8cc21",
   "metadata": {},
   "source": [
    "------\n",
    "## GPU\n",
    "\n",
    "- Cores: These are the primary computational units of the GPU. Each core can execute a single operation at a time, so more cores generally mean more parallel processing power.\n",
    "\n",
    "- Tensor Cores: These are specialized hardware units designed specifically for performing matrix operations, which are common in deep learning. They can perform mixed-precision matrix multiply and accumulate calculations in a single operation, which can greatly accelerate the training and inference of neural networks.\n",
    "\n",
    "- Cache: This is a smaller, faster memory located on the CPU or GPU that stores copies of the data from frequently used main memory locations. The purpose of cache memory is to speed up the data retrieval process.\n",
    "\n",
    "The most important component of a GPU is **Tensor Cores**. \n",
    "Tensor Cores are specialized hardware units that are designed to perform **matrix multiplication** operations on small matrices that are commonly used in deep learning.\n",
    "\n",
    "### NVIDIA GPU evolution history\n",
    "\n",
    "- **Kepler** (2012): GTX 600 series\n",
    "- **Maxwell** (2014): GTX 900 series\n",
    "- **Pascal** (2016): GTX 10 series\n",
    "- **Volta** (2017): Titan V, Tesla V100\n",
    "- **Turing** (2018): RTX 20 series\n",
    "- **Ampere** (2020): RTX 30 series\n",
    "- **Hopper** (2022): RTX 40 series\n",
    "\n",
    "\n",
    "References:\n",
    "- https://timdettmers.com/2023/01/30/which-gpu-for-deep-learning/"
   ]
  }
 ],
 "metadata": {
  "kernelspec": {
   "display_name": "Python 3 (ipykernel)",
   "language": "python",
   "name": "python3"
  },
  "language_info": {
   "codemirror_mode": {
    "name": "ipython",
    "version": 3
   },
   "file_extension": ".py",
   "mimetype": "text/x-python",
   "name": "python",
   "nbconvert_exporter": "python",
   "pygments_lexer": "ipython3",
   "version": "3.10.4"
  }
 },
 "nbformat": 4,
 "nbformat_minor": 5
}
