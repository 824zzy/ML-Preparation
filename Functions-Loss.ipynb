{
 "cells": [
  {
   "attachments": {},
   "cell_type": "markdown",
   "id": "b3899b19",
   "metadata": {},
   "source": [
    "# Loss functions"
   ]
  },
  {
   "attachments": {},
   "cell_type": "markdown",
   "id": "b09eefdd",
   "metadata": {},
   "source": [
    "## 1. Dice Loss\n",
    "\n",
    "The Dice coefficient, or Dice-Sørensen coefficient, is a common metric for pixel segmentation that can also be modified to act as a loss function.\n",
    "Dice loss: $1 - \\frac{2|X \\cap Y|}{|X| + |Y|}$"
   ]
  },
  {
   "attachments": {},
   "cell_type": "markdown",
   "id": "871d7e38",
   "metadata": {},
   "source": [
    "## 2. Cross Entropy Loss\n",
    "\n",
    "Cross-entropy loss (also known as log loss) is a common loss function used in supervised machine learning, particularly in classification problems. The function measures the dissimilarity between the predicted probability distribution and the true distribution.\n",
    "\n",
    "$$-L = -(y * log(p) + (1-y) * log(1-p))$$"
   ]
  },
  {
   "attachments": {},
   "cell_type": "markdown",
   "id": "dcc110ab",
   "metadata": {},
   "source": [
    "## 3. MSE Loss (L2 Loss)\n",
    "\n",
    "MSE Loss: $\\frac{1}{n}\\sum_{i=1}^{n}(y_i - \\hat{y_i})^2$.\n",
    "\n",
    "Mean Squared Error as the name suggests is the sum of squared distances between our target variable and predicted values.\n"
   ]
  },
  {
   "attachments": {},
   "cell_type": "markdown",
   "id": "65b209f9",
   "metadata": {},
   "source": [
    "## 4. MAE Loss (L1 Loss)\n",
    "\n",
    "MAE Loss: $\\frac{1}{n}\\sum_{i=1}^{n}|y_i - \\hat{y_i}|$.\n",
    "\n",
    "Mean Absolute Error is the sum of absolute distances between our target variable and predicted values."
   ]
  },
  {
   "cell_type": "markdown",
   "id": "a060f039",
   "metadata": {},
   "source": [
    "## References\n",
    "\n",
    "- [https://stats.stackexchange.com/questions/126238/what-are-the-advantages-of-relu-over-sigmoid-function-in-deep-neural-networks](https://stats.stackexchange.com/questions/126238/what-are-the-advantages-of-relu-over-sigmoid-function-in-deep-neural-networks)\n",
    "- [https://towardsdatascience.com/fantastic-activation-functions-and-when-to-use-them-481fe2bb2bde](https://towardsdatascience.com/fantastic-activation-functions-and-when-to-use-them-481fe2bb2bde)"
   ]
  },
  {
   "cell_type": "code",
   "execution_count": null,
   "id": "89993a60",
   "metadata": {},
   "outputs": [],
   "source": []
  }
 ],
 "metadata": {
  "kernelspec": {
   "display_name": "Python 3 (ipykernel)",
   "language": "python",
   "name": "python3"
  },
  "language_info": {
   "codemirror_mode": {
    "name": "ipython",
    "version": 3
   },
   "file_extension": ".py",
   "mimetype": "text/x-python",
   "name": "python",
   "nbconvert_exporter": "python",
   "pygments_lexer": "ipython3",
   "version": "3.10.4"
  }
 },
 "nbformat": 4,
 "nbformat_minor": 5
}
