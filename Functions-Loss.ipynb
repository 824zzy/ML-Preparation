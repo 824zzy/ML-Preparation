{
 "cells": [
  {
   "cell_type": "markdown",
   "id": "b09eefdd",
   "metadata": {},
   "source": [
    "## Dice Loss\n",
    "\n",
    "The Dice coefficient, or Dice-Sørensen coefficient, is a common metric for pixel segmentation that can also be modified to act as a loss function.\n",
    "Dice loss: $1 - \\frac{2|X \\cap Y|}{|X| + |Y|}$"
   ]
  },
  {
   "attachments": {},
   "cell_type": "markdown",
   "id": "871d7e38",
   "metadata": {},
   "source": [
    "## Cross Entropy Loss\n",
    "\n",
    "Cross-entropy loss, or log loss, measures the performance of a classification model whose output is a probability value between 0 and 1. Cross-entropy loss increases as the predicted probability diverges from the actual label. So predicting a probability of .012 when the actual observation label is 1 would be bad and result in a high loss value. A perfect model would have a log loss of 0.\n",
    "\n",
    "$$-\\sum_{i=1}^n y_i \\log(p_i)$$"
   ]
  },
  {
   "cell_type": "markdown",
   "id": "dcc110ab",
   "metadata": {},
   "source": [
    "## MSE Loss (L2 Loss)\n",
    "\n",
    "MSE Loss: $\\frac{1}{n}\\sum_{i=1}^{n}(y_i - \\hat{y_i})^2$.\n",
    "\n",
    "Mean Squared Error as the name suggests is the sum of squared distances between our target variable and predicted values.\n"
   ]
  },
  {
   "cell_type": "markdown",
   "id": "65b209f9",
   "metadata": {},
   "source": [
    "## MAE Loss (L1 Loss)\n",
    "\n",
    "MAE Loss: $\\frac{1}{n}\\sum_{i=1}^{n}|y_i - \\hat{y_i}|$.\n",
    "\n",
    "Mean Absolute Error is the sum of absolute distances between our target variable and predicted values."
   ]
  },
  {
   "cell_type": "markdown",
   "id": "a060f039",
   "metadata": {},
   "source": [
    "## References\n",
    "\n",
    "- [https://stats.stackexchange.com/questions/126238/what-are-the-advantages-of-relu-over-sigmoid-function-in-deep-neural-networks](https://stats.stackexchange.com/questions/126238/what-are-the-advantages-of-relu-over-sigmoid-function-in-deep-neural-networks)\n",
    "- [https://towardsdatascience.com/fantastic-activation-functions-and-when-to-use-them-481fe2bb2bde](https://towardsdatascience.com/fantastic-activation-functions-and-when-to-use-them-481fe2bb2bde)"
   ]
  },
  {
   "cell_type": "code",
   "execution_count": null,
   "id": "89993a60",
   "metadata": {},
   "outputs": [],
   "source": []
  }
 ],
 "metadata": {
  "kernelspec": {
   "display_name": "Python 3 (ipykernel)",
   "language": "python",
   "name": "python3"
  },
  "language_info": {
   "codemirror_mode": {
    "name": "ipython",
    "version": 3
   },
   "file_extension": ".py",
   "mimetype": "text/x-python",
   "name": "python",
   "nbconvert_exporter": "python",
   "pygments_lexer": "ipython3",
   "version": "3.10.4"
  }
 },
 "nbformat": 4,
 "nbformat_minor": 5
}
